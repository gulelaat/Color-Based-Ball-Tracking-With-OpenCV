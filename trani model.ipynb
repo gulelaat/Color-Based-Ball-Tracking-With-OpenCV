{
 "cells": [
  {
   "cell_type": "code",
   "execution_count": 9,
   "metadata": {},
   "outputs": [],
   "source": [
    "import cv2\n",
    "import numpy as np\n",
    "import csv\n",
    "import os"
   ]
  },
  {
   "cell_type": "code",
   "execution_count": 10,
   "metadata": {},
   "outputs": [],
   "source": [
    "# Define color ranges in HSV\n",
    "color_ranges = {\n",
    "    'red': ([0, 120, 70], [10, 255, 255]),\n",
    "    'green': ([36, 25, 25], [86, 255, 255]),\n",
    "    'blue': ([94, 80, 2], [126, 255, 255]),\n",
    "    'white': ([0, 0, 200], [180, 20, 255]),\n",
    "    'yellow': ([15, 100, 100], [35, 255, 255])",
    "}"
   ]
  },
  {
   "cell_type": "code",
   "execution_count": 11,
   "metadata": {},
   "outputs": [],
   "source": [
    "# Define quadrants\n",
    "def define_quadrants(frame):\n",
    "    height, width = frame.shape[:2]\n",
    "    quadrants = {\n",
    "        1: (0, height // 2, 0, width // 2),\n",
    "        2: (0, height // 2, width // 2, width),\n",
    "        3: (height // 2, height, 0, width // 2),\n",
    "        4: (height // 2, height, width // 2, width)\n",
    "    }\n",
    "    return quadrants"
   ]
  },
  {
   "cell_type": "code",
   "execution_count": 12,
   "metadata": {},
   "outputs": [],
   "source": [
    "# Function to write events to CSV\n",
    "def write_events_to_csv(events, csv_filename):\n",
    "    with open(csv_filename, mode='w', newline='') as file:\n",
    "        writer = csv.writer(file)\n",
    "        writer.writerow(['Time', 'Quadrant Number', 'Ball Colour', 'Type'])\n",
    "        for event in events:\n",
    "            writer.writerow([event['time'], event['quadrant'], event['color'], event['action']])"
   ]
  },
  {
   "cell_type": "code",
   "execution_count": 13,
   "metadata": {},
   "outputs": [],
   "source": [
    "## Function to overlay text on the frame\n",
    "def overlay_text(frame, text, position):\n",
    "    font = cv2.FONT_HERSHEY_SIMPLEX\n",
    "    cv2.putText(frame, text, position, font, 0.6, (255, 255, 255), 2, cv2.LINE_AA)\n"
   ]
  },
  {
   "cell_type": "code",
   "execution_count": 14,
   "metadata": {},
   "outputs": [],
   "source": [
    "# Function to track balls and create processed video\n",
    "def track_balls(video_path, output_video_path, output_csv_path):\n",
    "    cap = cv2.VideoCapture(video_path)\n",
    "    fps = cap.get(cv2.CAP_PROP_FPS)\n",
    "    frame_count = 0\n",
    "    events = []\n",
    "    ball_positions = {}\n",
    "\n",
    "    # Define video writer\n",
    "    fourcc = cv2.VideoWriter_fourcc(*'XVID')\n",
    "    out = cv2.VideoWriter(output_video_path, fourcc, fps, (int(cap.get(3)), int(cap.get(4))))\n",
    "\n",
    "    while cap.isOpened():\n",
    "        ret, frame = cap.read()\n",
    "        if not ret:\n",
    "            break\n",
    "\n",
    "        hsv = cv2.cvtColor(frame, cv2.COLOR_BGR2HSV)\n",
    "        quadrants = define_quadrants(frame)\n",
    "        for color, (lower, upper) in color_ranges.items():\n",
    "            lower = np.array(lower, dtype=\"uint8\")\n",
    "            upper = np.array(upper, dtype=\"uint8\")\n",
    "            mask = cv2.inRange(hsv, lower, upper)\n",
    "            contours, _ = cv2.findContours(mask, cv2.RETR_TREE, cv2.CHAIN_APPROX_SIMPLE)\n",
    "            for contour in contours:\n",
    "                if cv2.contourArea(contour) < 500:  # Filter small contours\n",
    "                    continue\n",
    "                (x, y, w, h) = cv2.boundingRect(contour)\n",
    "                cx, cy = x + w // 2, y + h // 2\n",
    "                current_quadrant = None\n",
    "                for q, (y1, y2, x1, x2) in quadrants.items():\n",
    "                    if x1 <= cx <= x2 and y1 <= cy <= y2:\n",
    "                        current_quadrant = q\n",
    "                        break\n",
    "\n",
    "                ball_id = (color, len(contour))\n",
    "                if ball_id not in ball_positions:\n",
    "                    ball_positions[ball_id] = {'last_seen': None}\n",
    "\n",
    "                last_seen_quadrant = ball_positions[ball_id]['last_seen']\n",
    "                timestamp = frame_count / fps\n",
    "                if current_quadrant != last_seen_quadrant:\n",
    "                    if last_seen_quadrant is not None:\n",
    "                        events.append({\n",
    "                            'time': timestamp,\n",
    "                            'color': color,\n",
    "                            'quadrant': last_seen_quadrant,\n",
    "                            'action': 'exit'\n",
    "                        })\n",
    "                        overlay_text(frame, f\"Exit {last_seen_quadrant}\", (x, y - 10))\n",
    "                    if current_quadrant is not None:\n",
    "                        events.append({\n",
    "                            'time': timestamp,\n",
    "                            'color': color,\n",
    "                            'quadrant': current_quadrant,\n",
    "                            'action': 'enter'\n",
    "                        })\n",
    "                        overlay_text(frame, f\"Entry {current_quadrant}\", (x, y - 10))\n",
    "                    ball_positions[ball_id]['last_seen'] = current_quadrant\n",
    "\n",
    "                cv2.circle(frame, (cx, cy), 5, (255, 255, 255), -1)\n",
    "                overlay_text(frame, color, (x, y + h + 20))\n",
    "\n",
    "        out.write(frame)\n",
    "        frame_count += 1\n",
    "\n",
    "    cap.release()\n",
    "    out.release()\n",
    "    write_events_to_csv(events, output_csv_path)"
   ]
  },
  {
   "cell_type": "code",
   "execution_count": 15,
   "metadata": {},
   "outputs": [],
   "source": [
    "# Paths to input and output files\n",
    "input_video_path = 'AI Assignment video.mp4'\n",
    "output_video_path = 'processed_video.avi'\n",
    "output_csv_path = 'events.csv'"
   ]
  },
  {
   "cell_type": "code",
   "execution_count": 16,
   "metadata": {},
   "outputs": [
    {
     "name": "stdout",
     "output_type": "stream",
     "text": [
      "Processed video saved at processed_video.avi\n",
      "Event data saved at events.csv\n"
     ]
    }
   ],
   "source": [
    "# Run the tracking function\n",
    "track_balls(input_video_path, output_video_path, output_csv_path)\n",
    "\n",
    "print(f\"Processed video saved at {output_video_path}\")\n",
    "print(f\"Event data saved at {output_csv_path}\")\n"
   ]
  }
 ],
 "metadata": {
  "kernelspec": {
   "display_name": "Python 3",
   "language": "python",
   "name": "python3"
  },
  "language_info": {
   "codemirror_mode": {
    "name": "ipython",
    "version": 3
   },
   "file_extension": ".py",
   "mimetype": "text/x-python",
   "name": "python",
   "nbconvert_exporter": "python",
   "pygments_lexer": "ipython3",
   "version": "3.12.4"
  }
 },
 "nbformat": 4,
 "nbformat_minor": 2
}
